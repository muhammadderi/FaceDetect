{
  "nbformat": 4,
  "nbformat_minor": 0,
  "metadata": {
    "colab": {
      "name": "Untitled12.ipynb",
      "version": "0.3.2",
      "provenance": [],
      "include_colab_link": true
    },
    "kernelspec": {
      "name": "python3",
      "display_name": "Python 3"
    }
  },
  "cells": [
    {
      "cell_type": "markdown",
      "metadata": {
        "id": "view-in-github",
        "colab_type": "text"
      },
      "source": [
        "<a href=\"https://colab.research.google.com/github/muhammadderi/FaceDetect/blob/master/Untitled12.ipynb\" target=\"_parent\"><img src=\"https://colab.research.google.com/assets/colab-badge.svg\" alt=\"Open In Colab\"/></a>"
      ]
    },
    {
      "cell_type": "code",
      "metadata": {
        "id": "OBuX1XJou7X-",
        "colab_type": "code",
        "colab": {
          "base_uri": "https://localhost:8080/",
          "height": 132
        },
        "outputId": "afcedd67-dd3f-4c63-e4f8-046d087b4f01"
      },
      "source": [
        "<H2>FORM SIMULASI KREDIT</H2>\n",
        "<br />\n",
        "<form\tid=\"form1\"\tname=\"form1\"\tmethod=\"post\" action=\"simulasi_proses.php\">\n",
        "\n",
        " <table width=\"580\" border=\"0\" cellspacing=\"2\" cellpadding=\"2\">\n",
        "  <tr>\n",
        " <td>Harga Kendaraan </td>\n",
        " <td><input name=\"harga\" type=\"text\" id=\"harga\" value=\"<?php echo $harga = 150000000 ; ?>\" size=\"150\" /></td>\n",
        "   </tr> \n",
        "    <tr>\n",
        " <td>DP Murni </td>\n",
        " <td><input name=\"dp\" type=\"text\" id=\"dp\" value=\"<?php echo $dp = 30000000; ?>\" size=\"150\" /></td>\n",
        "\n",
        "</tr> \n",
        "<tr>\n",
        "<td>&nbsp;</td>\n",
        "<td>DP di atas adalah 20%, Anda bisa mengganti sesuai budget </td>\n",
        "\n",
        "</tr>\n",
        "<tr>\n",
        "<td>Lama Kredit </td> \n",
        "<td>\n",
        "<select name=\"tahun\" id=\"tahun\">\n",
        "<option value=\"0\">-- Pilih Tahun --</option>\n",
        "<option value=\"1\">1</option>\n",
        "<option value=\"2\">2</option>\n",
        "<option value=\"3\">3</option>\n",
        "<option value=\"4\">4</option>\n",
        "<option value=\"5\">5</option>\n",
        "</select>\n",
        " </td>\n",
        "</tr> \n",
        "<tr>\n",
        " <td>&nbsp;</td>\n",
        " <td><input\ttype=\"submit\"\tname=\"Submit\"\tvalue=\"Kalkulasi\" /></td>\n",
        "tr>\n",
        "<tr>\n",
        " <td>&nbsp;</td>\n",
        "  <td>&nbsp;</td>\n",
        "  </tr>\n",
        " <tr>\n",
        " <td>&nbsp;</td>\n",
        "  <td>&nbsp;</td> </tr>\n",
        " </table>\n",
        "</form>\n",
        "</body>\n",
        "</html>\n",
        "\n",
        "\n"
      ],
      "execution_count": 3,
      "outputs": [
        {
          "output_type": "error",
          "ename": "SyntaxError",
          "evalue": "ignored",
          "traceback": [
            "\u001b[0;36m  File \u001b[0;32m\"<ipython-input-3-7b459c3c934d>\"\u001b[0;36m, line \u001b[0;32m1\u001b[0m\n\u001b[0;31m    <H2>FORM SIMULASI KREDIT </H2>\u001b[0m\n\u001b[0m    ^\u001b[0m\n\u001b[0;31mSyntaxError\u001b[0m\u001b[0;31m:\u001b[0m invalid syntax\n"
          ]
        }
      ]
    }
  ]
}