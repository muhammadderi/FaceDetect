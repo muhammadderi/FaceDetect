{
  "nbformat": 4,
  "nbformat_minor": 0,
  "metadata": {
    "colab": {
      "name": "randomwalk.ipynb",
      "version": "0.3.2",
      "provenance": [],
      "include_colab_link": true
    },
    "kernelspec": {
      "name": "python3",
      "display_name": "Python 3"
    }
  },
  "cells": [
    {
      "cell_type": "markdown",
      "metadata": {
        "id": "view-in-github",
        "colab_type": "text"
      },
      "source": [
        "<a href=\"https://colab.research.google.com/github/muhammadderi/FaceDetect/blob/master/randomwalk.ipynb\" target=\"_parent\"><img src=\"https://colab.research.google.com/assets/colab-badge.svg\" alt=\"Open In Colab\"/></a>"
      ]
    },
    {
      "cell_type": "code",
      "metadata": {
        "id": "zN8wj9noYzIW",
        "colab_type": "code",
        "colab": {
          "base_uri": "https://localhost:8080/",
          "height": 132
        },
        "outputId": "1f1ddf77-c1de-4dc4-b692-682ff66e0669"
      },
      "source": [
        "import random\n",
        "\n",
        "def random_walk_2(n):\n",
        "x, y = 0, 0\n",
        "for i in range(n):\n",
        "(dx, dy) = random.choice([(0, 1), (0, -1), (1, 0), (-1, 0)])\n",
        "x += dx\n",
        "y += dy\n",
        "return (x, y)\n",
        "\n",
        "number_of_walks = 10000\n",
        "\n",
        "for walk_length in range(1, 31):\n",
        "no_transport = 0 # Number of walks 4 or fewer blocks from home \n",
        "for i in range (number_of_walks):\n",
        "(x, y) = random_walk_2(walk_length)\n",
        "distance = abs(x) + abs(y)\n",
        "if distance <= 4:\n",
        "no_transport += 1\n",
        "no_transport_percentage = float(no_transport) /number_of_walks\n",
        "print(\"Walk size = \", walk_length,\n",
        "\" / % of no transport =\", 100*no_transport_percentage)"
      ],
      "execution_count": 2,
      "outputs": [
        {
          "output_type": "error",
          "ename": "IndentationError",
          "evalue": "ignored",
          "traceback": [
            "\u001b[0;36m  File \u001b[0;32m\"<ipython-input-2-cc90a00ee5e6>\"\u001b[0;36m, line \u001b[0;32m4\u001b[0m\n\u001b[0;31m    x, y = 0, 0\u001b[0m\n\u001b[0m    ^\u001b[0m\n\u001b[0;31mIndentationError\u001b[0m\u001b[0;31m:\u001b[0m expected an indented block\n"
          ]
        }
      ]
    }
  ]
}